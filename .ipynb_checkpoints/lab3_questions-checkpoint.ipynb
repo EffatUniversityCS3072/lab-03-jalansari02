{
 "cells": [
  {
   "cell_type": "markdown",
   "id": "26cf5d84-cfef-4446-8191-d3243e5287f6",
   "metadata": {},
   "source": [
    "## Lab 3: pandas\n",
    "\n",
    "#### Introduction\n",
    "\n",
    "We will examine a dataset containing characteristics of lego sets manufactured between 1961 and 2019 from the BRICKSET website. Variables in the dataset are described below.\n",
    "\n",
    "| VARIABLE             |      DESCRIPTION             |\n",
    "|:----------|:-------------|\n",
    "| ID |  set id |\n",
    "| Name |    name of set   |\n",
    "| Themegroup | themegroup of set |\n",
    "| Theme |  theme of set |\n",
    "| Subtheme |    subtheme of set   |\n",
    "| Year | year released |\n",
    "| Pieces |  number of pieces |\n",
    "| Minifig |    number of minifigs   |\n",
    "| Package | type of packaging |\n",
    "| Retail_Price |  recommended retail pri\n",
    "\n",
    "\n",
    "\n",
    "Load pandas to read in the data and save it as dataframe named lego."
   ]
  },
  {
   "cell_type": "code",
   "execution_count": 5,
   "id": "c5749932-fc68-41af-9354-8ef58288707f",
   "metadata": {},
   "outputs": [],
   "source": [
    "import pandas as pd\n",
    "\n",
    "lego = pd.read_csv('lego.csv')"
   ]
  },
  {
   "cell_type": "markdown",
   "id": "cc9d92c3-501a-4b50-a345-806b102b6a76",
   "metadata": {},
   "source": [
    "#### Question 1:\n",
    "Some sets have missing information for retail_price or pieces or both. This could be because the sets are free (giveaways), they aren’t traditional lego sets (comic books, etc) or just because the information is missing. Filter the lego dataset based on the specifications below and save the result as lego. Hence, you will overwrite the original lego object. In addition, describe the implications of removing these sets.\n",
    "\n",
    "Your new lego (data frame) should have:\n",
    "\n",
    "• no missing pieces\n",
    "\n",
    "• only contain sets with a nonzero number of pieces\n",
    "\n",
    "• no missing retail_price\n",
    "\n",
    "• only contain sets with a nonzero retail_price\n",
    "\n",
    "• no missing year\n",
    "\n",
    "- Print out the shape of the dataframe after cleaning the dataset.\n",
    "- "
   ]
  },
  {
   "cell_type": "code",
   "execution_count": 23,
   "id": "9d5c1301-b2ee-4c0d-9b5a-5a8a3e625ecd",
   "metadata": {},
   "outputs": [
    {
     "name": "stdout",
     "output_type": "stream",
     "text": [
      "(12214, 10)\n",
      "(4360, 10)\n",
      "(4277, 10)\n"
     ]
    }
   ],
   "source": [
    "# Write your answer here\n",
    "print(lego.shape)\n",
    "lego2 = lego.dropna()\n",
    "print(lego2.shape)\n",
    "lego2 = lego2.loc[lego2.retail_price>0, :]\n",
    "lego2 = lego2.loc[lego2.pieces>0, :]\n",
    "print(lego2.shape)"
   ]
  },
  {
   "cell_type": "markdown",
   "id": "1193e396-77f1-48d9-a378-141f9ae0b491",
   "metadata": {},
   "source": [
    "#### Question 2:\t\n",
    "Arrange the dataset in descending order of retail_price and print the first three rows. Report in words the names of the three most expensive lego sets, their prices, and how many pieces each has."
   ]
  },
  {
   "cell_type": "code",
   "execution_count": 25,
   "id": "434c3555-0556-4332-a5c7-944834f407b8",
   "metadata": {},
   "outputs": [
    {
     "data": {
      "text/html": [
       "<div>\n",
       "<style scoped>\n",
       "    .dataframe tbody tr th:only-of-type {\n",
       "        vertical-align: middle;\n",
       "    }\n",
       "\n",
       "    .dataframe tbody tr th {\n",
       "        vertical-align: top;\n",
       "    }\n",
       "\n",
       "    .dataframe thead th {\n",
       "        text-align: right;\n",
       "    }\n",
       "</style>\n",
       "<table border=\"1\" class=\"dataframe\">\n",
       "  <thead>\n",
       "    <tr style=\"text-align: right;\">\n",
       "      <th></th>\n",
       "      <th>id</th>\n",
       "      <th>name</th>\n",
       "      <th>themegroup</th>\n",
       "      <th>theme</th>\n",
       "      <th>subtheme</th>\n",
       "      <th>year</th>\n",
       "      <th>pieces</th>\n",
       "      <th>minifigs</th>\n",
       "      <th>package</th>\n",
       "      <th>retail_price</th>\n",
       "    </tr>\n",
       "  </thead>\n",
       "  <tbody>\n",
       "    <tr>\n",
       "      <th>1434</th>\n",
       "      <td>75192-1</td>\n",
       "      <td>Millennium Falcon</td>\n",
       "      <td>Licensed</td>\n",
       "      <td>Star Wars</td>\n",
       "      <td>Ultimate Collector Series</td>\n",
       "      <td>2017.0</td>\n",
       "      <td>7541.0</td>\n",
       "      <td>8</td>\n",
       "      <td>Box</td>\n",
       "      <td>799.99</td>\n",
       "    </tr>\n",
       "    <tr>\n",
       "      <th>5944</th>\n",
       "      <td>10179-1</td>\n",
       "      <td>Ultimate Collector's Millennium Falcon</td>\n",
       "      <td>Licensed</td>\n",
       "      <td>Star Wars</td>\n",
       "      <td>Ultimate Collector Series</td>\n",
       "      <td>2007.0</td>\n",
       "      <td>5197.0</td>\n",
       "      <td>5</td>\n",
       "      <td>Box</td>\n",
       "      <td>499.99</td>\n",
       "    </tr>\n",
       "    <tr>\n",
       "      <th>2065</th>\n",
       "      <td>75159-1</td>\n",
       "      <td>Death Star</td>\n",
       "      <td>Licensed</td>\n",
       "      <td>Star Wars</td>\n",
       "      <td>Ultimate Collector Series</td>\n",
       "      <td>2016.0</td>\n",
       "      <td>4016.0</td>\n",
       "      <td>27</td>\n",
       "      <td>Box</td>\n",
       "      <td>499.99</td>\n",
       "    </tr>\n",
       "  </tbody>\n",
       "</table>\n",
       "</div>"
      ],
      "text/plain": [
       "           id                                    name themegroup      theme  \\\n",
       "1434  75192-1                       Millennium Falcon   Licensed  Star Wars   \n",
       "5944  10179-1  Ultimate Collector's Millennium Falcon   Licensed  Star Wars   \n",
       "2065  75159-1                              Death Star   Licensed  Star Wars   \n",
       "\n",
       "                       subtheme    year  pieces  minifigs package  \\\n",
       "1434  Ultimate Collector Series  2017.0  7541.0         8     Box   \n",
       "5944  Ultimate Collector Series  2007.0  5197.0         5     Box   \n",
       "2065  Ultimate Collector Series  2016.0  4016.0        27     Box   \n",
       "\n",
       "      retail_price  \n",
       "1434        799.99  \n",
       "5944        499.99  \n",
       "2065        499.99  "
      ]
     },
     "execution_count": 25,
     "metadata": {},
     "output_type": "execute_result"
    }
   ],
   "source": [
    "# Write your answer here\n",
    "lego2.sort_values(by = 'retail_price',ascending = False).head(3)\n"
   ]
  },
  {
   "cell_type": "markdown",
   "id": "e972d030-9086-4b6f-b4bf-02d61bd5b2af",
   "metadata": {},
   "source": [
    "#### Question 3:\n",
    "\n",
    "It appears that the most expensive sets generally have more pieces. Create a new variable (column) price_per_piece, representing the price in dollars per piece for each of the sets. Save the result as lego2. Hence, you will overwrite the current lego object."
   ]
  },
  {
   "cell_type": "code",
   "execution_count": 51,
   "id": "8061514b-9a20-45d0-9998-75f3ca9b1bc4",
   "metadata": {},
   "outputs": [
    {
     "data": {
      "text/html": [
       "<div>\n",
       "<style scoped>\n",
       "    .dataframe tbody tr th:only-of-type {\n",
       "        vertical-align: middle;\n",
       "    }\n",
       "\n",
       "    .dataframe tbody tr th {\n",
       "        vertical-align: top;\n",
       "    }\n",
       "\n",
       "    .dataframe thead th {\n",
       "        text-align: right;\n",
       "    }\n",
       "</style>\n",
       "<table border=\"1\" class=\"dataframe\">\n",
       "  <thead>\n",
       "    <tr style=\"text-align: right;\">\n",
       "      <th></th>\n",
       "      <th>id</th>\n",
       "      <th>name</th>\n",
       "      <th>themegroup</th>\n",
       "      <th>theme</th>\n",
       "      <th>subtheme</th>\n",
       "      <th>year</th>\n",
       "      <th>pieces</th>\n",
       "      <th>minifigs</th>\n",
       "      <th>package</th>\n",
       "      <th>retail_price</th>\n",
       "      <th>price_per_piece</th>\n",
       "    </tr>\n",
       "  </thead>\n",
       "  <tbody>\n",
       "    <tr>\n",
       "      <th>5551</th>\n",
       "      <td>8878-1</td>\n",
       "      <td>Rechargeable Battery Box</td>\n",
       "      <td>Technical</td>\n",
       "      <td>Power Functions</td>\n",
       "      <td>Accessories</td>\n",
       "      <td>2009.0</td>\n",
       "      <td>1.0</td>\n",
       "      <td>0</td>\n",
       "      <td>Polybag</td>\n",
       "      <td>49.99</td>\n",
       "      <td>49.990</td>\n",
       "    </tr>\n",
       "    <tr>\n",
       "      <th>5553</th>\n",
       "      <td>8887-1</td>\n",
       "      <td>Transformer 10V DC</td>\n",
       "      <td>Technical</td>\n",
       "      <td>Power Functions</td>\n",
       "      <td>Accessories</td>\n",
       "      <td>2009.0</td>\n",
       "      <td>1.0</td>\n",
       "      <td>0</td>\n",
       "      <td>Polybag</td>\n",
       "      <td>29.99</td>\n",
       "      <td>29.990</td>\n",
       "    </tr>\n",
       "    <tr>\n",
       "      <th>5616</th>\n",
       "      <td>COMCON005-1</td>\n",
       "      <td>Collectable Display Set 2</td>\n",
       "      <td>Licensed</td>\n",
       "      <td>Star Wars</td>\n",
       "      <td>Miscellaneous</td>\n",
       "      <td>2009.0</td>\n",
       "      <td>2.0</td>\n",
       "      <td>3</td>\n",
       "      <td>Plastic box</td>\n",
       "      <td>49.99</td>\n",
       "      <td>24.995</td>\n",
       "    </tr>\n",
       "  </tbody>\n",
       "</table>\n",
       "</div>"
      ],
      "text/plain": [
       "               id                       name themegroup            theme  \\\n",
       "5551       8878-1   Rechargeable Battery Box  Technical  Power Functions   \n",
       "5553       8887-1         Transformer 10V DC  Technical  Power Functions   \n",
       "5616  COMCON005-1  Collectable Display Set 2   Licensed        Star Wars   \n",
       "\n",
       "           subtheme    year  pieces  minifigs      package  retail_price  \\\n",
       "5551    Accessories  2009.0     1.0         0      Polybag         49.99   \n",
       "5553    Accessories  2009.0     1.0         0      Polybag         29.99   \n",
       "5616  Miscellaneous  2009.0     2.0         3  Plastic box         49.99   \n",
       "\n",
       "      price_per_piece  \n",
       "5551           49.990  \n",
       "5553           29.990  \n",
       "5616           24.995  "
      ]
     },
     "execution_count": 51,
     "metadata": {},
     "output_type": "execute_result"
    }
   ],
   "source": [
    "# Write your answer here\n",
    "lego2['price_per_piece'] = lego2.retail_price / lego2.pieces\n",
    "lego2.sort_values(by = 'price_per_piece', ascending = False).head(3)"
   ]
  },
  {
   "cell_type": "markdown",
   "id": "a66016ad-869d-4412-b809-749423e9c8d2",
   "metadata": {},
   "source": [
    "#### Question 4:\t\n",
    "\n",
    "Arrange the lego2 dataset in descending order of price_per_piece and return only the columns: name, themegroup, theme, pieces, price_per_piece, and the first five rows. What do you notice about these sets?"
   ]
  },
  {
   "cell_type": "code",
   "execution_count": 37,
   "id": "e4e623ce-d4d4-44d6-86a0-881a04eebf11",
   "metadata": {},
   "outputs": [
    {
     "data": {
      "text/html": [
       "<div>\n",
       "<style scoped>\n",
       "    .dataframe tbody tr th:only-of-type {\n",
       "        vertical-align: middle;\n",
       "    }\n",
       "\n",
       "    .dataframe tbody tr th {\n",
       "        vertical-align: top;\n",
       "    }\n",
       "\n",
       "    .dataframe thead th {\n",
       "        text-align: right;\n",
       "    }\n",
       "</style>\n",
       "<table border=\"1\" class=\"dataframe\">\n",
       "  <thead>\n",
       "    <tr style=\"text-align: right;\">\n",
       "      <th></th>\n",
       "      <th>name</th>\n",
       "      <th>themegroup</th>\n",
       "      <th>theme</th>\n",
       "      <th>pieces</th>\n",
       "      <th>price_per_piece</th>\n",
       "    </tr>\n",
       "  </thead>\n",
       "  <tbody>\n",
       "    <tr>\n",
       "      <th>5551</th>\n",
       "      <td>Rechargeable Battery Box</td>\n",
       "      <td>Technical</td>\n",
       "      <td>Power Functions</td>\n",
       "      <td>1.0</td>\n",
       "      <td>49.990</td>\n",
       "    </tr>\n",
       "    <tr>\n",
       "      <th>5553</th>\n",
       "      <td>Transformer 10V DC</td>\n",
       "      <td>Technical</td>\n",
       "      <td>Power Functions</td>\n",
       "      <td>1.0</td>\n",
       "      <td>29.990</td>\n",
       "    </tr>\n",
       "    <tr>\n",
       "      <th>5616</th>\n",
       "      <td>Collectable Display Set 2</td>\n",
       "      <td>Licensed</td>\n",
       "      <td>Star Wars</td>\n",
       "      <td>2.0</td>\n",
       "      <td>24.995</td>\n",
       "    </tr>\n",
       "    <tr>\n",
       "      <th>8694</th>\n",
       "      <td>Temperature Sensor</td>\n",
       "      <td>Technical</td>\n",
       "      <td>Mindstorms</td>\n",
       "      <td>1.0</td>\n",
       "      <td>24.000</td>\n",
       "    </tr>\n",
       "    <tr>\n",
       "      <th>7540</th>\n",
       "      <td>Robotics Invention System Upgrade Kit</td>\n",
       "      <td>Technical</td>\n",
       "      <td>Mindstorms</td>\n",
       "      <td>1.0</td>\n",
       "      <td>20.000</td>\n",
       "    </tr>\n",
       "  </tbody>\n",
       "</table>\n",
       "</div>"
      ],
      "text/plain": [
       "                                       name themegroup            theme  \\\n",
       "5551               Rechargeable Battery Box  Technical  Power Functions   \n",
       "5553                     Transformer 10V DC  Technical  Power Functions   \n",
       "5616              Collectable Display Set 2   Licensed        Star Wars   \n",
       "8694                     Temperature Sensor  Technical       Mindstorms   \n",
       "7540  Robotics Invention System Upgrade Kit  Technical       Mindstorms   \n",
       "\n",
       "      pieces  price_per_piece  \n",
       "5551     1.0           49.990  \n",
       "5553     1.0           29.990  \n",
       "5616     2.0           24.995  \n",
       "8694     1.0           24.000  \n",
       "7540     1.0           20.000  "
      ]
     },
     "execution_count": 37,
     "metadata": {},
     "output_type": "execute_result"
    }
   ],
   "source": [
    "# Write your answer here\n",
    "lego3 = lego2.sort_values(by = 'price_per_piece', ascending = False)\n",
    "lego3 = lego3.loc[:,['name', 'themegroup', 'theme', 'pieces', 'price_per_piece']]\n",
    "lego3.head(5)\n"
   ]
  },
  {
   "cell_type": "markdown",
   "id": "1603a4f2-1e28-43e9-8677-87dcfaf61912",
   "metadata": {},
   "source": [
    "#### Question 5:\n",
    "\n",
    "What is the mean price_per_piece for the top 40 'Toy Story' sets in terms of price_per_piece?"
   ]
  },
  {
   "cell_type": "code",
   "execution_count": 45,
   "id": "af76d9ef-a022-4e73-97f4-ba3899219d8b",
   "metadata": {},
   "outputs": [
    {
     "data": {
      "text/plain": [
       "2.036166411264348"
      ]
     },
     "execution_count": 45,
     "metadata": {},
     "output_type": "execute_result"
    }
   ],
   "source": [
    "# Write your answer here\n",
    "lego3 = lego2.sort_values(by = 'price_per_piece', ascending = False)\n",
    "lego3.loc[lego3.theme == 'Star Wars',:].head(40).price_per_piece.mean()\n"
   ]
  },
  {
   "cell_type": "markdown",
   "id": "45a75d99",
   "metadata": {},
   "source": [
    "#### Question 6:\n",
    "\n",
    "What are the unique themes in the lego dataset?"
   ]
  },
  {
   "cell_type": "code",
   "execution_count": 47,
   "id": "fbdb9c4c",
   "metadata": {},
   "outputs": [
    {
     "data": {
      "text/plain": [
       "theme\n",
       "Star Wars                            498\n",
       "Collectable Minifigures              431\n",
       "City                                 390\n",
       "Town                                 310\n",
       "Racers                               183\n",
       "                                    ... \n",
       "The Lego Movie 2: The Second Part      2\n",
       "Explore                                1\n",
       "Bricks and More                        1\n",
       "Books                                  1\n",
       "LEGOLAND                               1\n",
       "Name: count, Length: 73, dtype: int64"
      ]
     },
     "execution_count": 47,
     "metadata": {},
     "output_type": "execute_result"
    }
   ],
   "source": [
    "# Write your answer here\n",
    "lego2.theme.value_counts()\n"
   ]
  },
  {
   "cell_type": "code",
   "execution_count": null,
   "id": "ada58b89-709e-4542-9054-8df68ce51ccb",
   "metadata": {},
   "outputs": [],
   "source": []
  }
 ],
 "metadata": {
  "kernelspec": {
   "display_name": "Python 3 (ipykernel)",
   "language": "python",
   "name": "python3"
  },
  "language_info": {
   "codemirror_mode": {
    "name": "ipython",
    "version": 3
   },
   "file_extension": ".py",
   "mimetype": "text/x-python",
   "name": "python",
   "nbconvert_exporter": "python",
   "pygments_lexer": "ipython3",
   "version": "3.12.4"
  }
 },
 "nbformat": 4,
 "nbformat_minor": 5
}
